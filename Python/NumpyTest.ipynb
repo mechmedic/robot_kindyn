{
 "cells": [
  {
   "cell_type": "code",
   "execution_count": 1,
   "id": "73f5c004",
   "metadata": {},
   "outputs": [],
   "source": [
    "import numpy as np"
   ]
  },
  {
   "cell_type": "code",
   "execution_count": 2,
   "id": "e5757610",
   "metadata": {},
   "outputs": [
    {
     "name": "stdout",
     "output_type": "stream",
     "text": [
      "x = [3 6]\n",
      "x dim : 1, shape : (2,)\n",
      "\n",
      "x = [[3]\n",
      " [6]]\n",
      "xcol dim : 2, shape : (2, 1)\n",
      "\n",
      "x = [[3 6]]\n",
      "xrow dim : 2, shape : (1, 2)\n",
      "\n",
      "\n",
      "\n",
      "[[ 3 12]\n",
      " [ 9 24]]\n",
      "\n",
      "[[ 3 12]\n",
      " [ 9 24]]\n",
      "\n",
      "[[ 3 12]\n",
      " [ 9 24]]\n",
      "\n",
      "[[ 3 12]\n",
      " [ 9 24]]\n",
      "\n",
      "\n",
      "\n",
      "[[ 3  6]\n",
      " [18 24]]\n",
      "\n",
      "[[ 3  6]\n",
      " [18 24]]\n",
      "\n",
      "\n",
      "\n",
      "[15 33]\n",
      "\n",
      "[[15]\n",
      " [33]]\n",
      "\n",
      "[21 30]\n",
      "\n",
      "[[21 30]]\n",
      "\n"
     ]
    }
   ],
   "source": [
    "A = np.array([[1,2,],[3,4,]])\n",
    "x = np.array([3,6])      # row vector, 1 dimensional row vector. shape = (2,)\n",
    "xcol = x[:,np.newaxis]   # explicit conversion to column vector. 2 dimensional matrix, shape = (2,1)\n",
    "xrow = np.array([x])     # row vector. 2 dimensional matrix, shape = (1,2)\n",
    "\n",
    "# row vector can be (n,) 1d array or (1,n) 2d array. column vector is (n,1) 2d array\n",
    "print(f'x = {x}')\n",
    "print(f'x dim : {x.ndim}, shape : {x.shape}\\n')\n",
    "print(f'x = {xcol}')\n",
    "print(f'xcol dim : {xcol.ndim}, shape : {xcol.shape}\\n')\n",
    "print(f'x = {xrow}')\n",
    "print(f'xrow dim : {xrow.ndim}, shape : {xrow.shape}\\n')\n",
    "print('\\n')\n",
    "\n",
    "# Folowing 4 results are same. rowwise multiplication\n",
    "# [1*3, 2*6; 3*3, 4*6] = [3,12; 9,24]\n",
    "print(f'{A*x}\\n')   # x is treated as a row vector, boradcasts rowwise multiplication\n",
    "print(f'{x*A}\\n')   # x is treated as a row vector, boradcasts rowwise multiplication\n",
    "print(f'{A*xrow}\\n')   # xrow is a row vector, boradcasts rowwise multiplication\n",
    "print(f'{xrow*A}\\n')   # xrow is as a row vector, boradcasts rowwise multiplication\n",
    "print('\\n')\n",
    "\n",
    "# Folowing 2 results are same. columnwise multiplication\n",
    "# [1*3, 2*3; 3*6, 4*6] = [3,6; 18,24]\n",
    "print(f'{A*xcol}\\n')\n",
    "print(f'{xcol*A}\\n')\n",
    "print('\\n')\n",
    "\n",
    "# Matrix vector multiplication\n",
    "# [1, 2; 3,4]*[3;6] = [15; 33]\n",
    "print(f'{A@x}\\n')     # when on the right side of @, x is implicitly converted to a column vector, results (2, ) array [15, 33]\n",
    "print(f'{A@xcol}\\n')  # same result but the dimension of the output is 2 x 1 array [ [15], [33] ]\n",
    "#print(f'{A@xrow}\\n')  # error, dimension mismatch\n",
    "\n",
    "# Vector matrix multiplication\n",
    "# [3,6]*[1, 2; 3,4] = [21, 30]\n",
    "print(f'{x@A}\\n')     # when on the left side of @, x is row vector as it was. results (2, ) array [21, 30]\n",
    "print(f'{xrow@A}\\n')  # same result but the dimension of the output is 1 x 2 array [[21, 30]]\n",
    "#print(f'{xcol@A}\\n')  # error, dimension mismatch\n",
    "\n"
   ]
  },
  {
   "cell_type": "code",
   "execution_count": null,
   "id": "af39a625",
   "metadata": {},
   "outputs": [],
   "source": []
  }
 ],
 "metadata": {
  "kernelspec": {
   "display_name": "Python 3 (ipykernel)",
   "language": "python",
   "name": "python3"
  },
  "language_info": {
   "codemirror_mode": {
    "name": "ipython",
    "version": 3
   },
   "file_extension": ".py",
   "mimetype": "text/x-python",
   "name": "python",
   "nbconvert_exporter": "python",
   "pygments_lexer": "ipython3",
   "version": "3.12.3"
  }
 },
 "nbformat": 4,
 "nbformat_minor": 5
}
